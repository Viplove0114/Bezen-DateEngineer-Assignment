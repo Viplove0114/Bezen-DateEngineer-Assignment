{
  "nbformat": 4,
  "nbformat_minor": 0,
  "metadata": {
    "colab": {
      "name": "Bezen DateEngineer Assignment.ipynb",
      "provenance": [],
      "collapsed_sections": []
    },
    "kernelspec": {
      "name": "python3",
      "display_name": "Python 3"
    },
    "language_info": {
      "name": "python"
    }
  },
  "cells": [
    {
      "cell_type": "code",
      "source": [
        "#installing and importing pyspark"
      ],
      "metadata": {
        "id": "p5ss0JotElz3"
      },
      "execution_count": null,
      "outputs": []
    },
    {
      "cell_type": "code",
      "source": [
        "pip install pyspark\n"
      ],
      "metadata": {
        "colab": {
          "base_uri": "https://localhost:8080/"
        },
        "id": "IP4IilTQqxyz",
        "outputId": "537a31e8-67c7-49fc-a3f1-e3de0aaafd6c"
      },
      "execution_count": 118,
      "outputs": [
        {
          "output_type": "stream",
          "name": "stdout",
          "text": [
            "Requirement already satisfied: pyspark in /usr/local/lib/python3.7/dist-packages (3.2.1)\n",
            "Requirement already satisfied: py4j==0.10.9.3 in /usr/local/lib/python3.7/dist-packages (from pyspark) (0.10.9.3)\n"
          ]
        }
      ]
    },
    {
      "cell_type": "code",
      "execution_count": 119,
      "metadata": {
        "id": "AaixsMRWqiDz"
      },
      "outputs": [],
      "source": [
        "from pyspark.sql import SparkSession\n",
        "from pyspark import SparkFiles"
      ]
    },
    {
      "cell_type": "code",
      "source": [
        "#creating the spark session\n",
        "spark = SparkSession.builder.config(\"spark.driver.memory\", \"50g\").appName(\"intern\").getOrCreate()"
      ],
      "metadata": {
        "id": "ePxxNwN-qm30"
      },
      "execution_count": 120,
      "outputs": []
    },
    {
      "cell_type": "code",
      "source": [
        "spark"
      ],
      "metadata": {
        "colab": {
          "base_uri": "https://localhost:8080/",
          "height": 222
        },
        "id": "fGugldrAsgqp",
        "outputId": "411dfae1-5d5f-4141-800b-81f6a638c582"
      },
      "execution_count": 121,
      "outputs": [
        {
          "output_type": "execute_result",
          "data": {
            "text/plain": [
              "<pyspark.sql.session.SparkSession at 0x7fc4082bcf90>"
            ],
            "text/html": [
              "\n",
              "            <div>\n",
              "                <p><b>SparkSession - in-memory</b></p>\n",
              "                \n",
              "        <div>\n",
              "            <p><b>SparkContext</b></p>\n",
              "\n",
              "            <p><a href=\"http://e0ef5b0cb60f:4040\">Spark UI</a></p>\n",
              "\n",
              "            <dl>\n",
              "              <dt>Version</dt>\n",
              "                <dd><code>v3.2.1</code></dd>\n",
              "              <dt>Master</dt>\n",
              "                <dd><code>local[*]</code></dd>\n",
              "              <dt>AppName</dt>\n",
              "                <dd><code>intern</code></dd>\n",
              "            </dl>\n",
              "        </div>\n",
              "        \n",
              "            </div>\n",
              "        "
            ]
          },
          "metadata": {},
          "execution_count": 121
        }
      ]
    },
    {
      "cell_type": "code",
      "source": [
        "# importing the google drive for importing the datset because i am using google colab \n",
        "from google.colab import drive\n",
        "drive.mount('/content/drive')"
      ],
      "metadata": {
        "colab": {
          "base_uri": "https://localhost:8080/"
        },
        "id": "V7rsDVkmMpEj",
        "outputId": "e9b9df6f-24e4-43c6-e765-6a6e339e89e7"
      },
      "execution_count": 122,
      "outputs": [
        {
          "output_type": "stream",
          "name": "stdout",
          "text": [
            "Drive already mounted at /content/drive; to attempt to forcibly remount, call drive.mount(\"/content/drive\", force_remount=True).\n"
          ]
        }
      ]
    },
    {
      "cell_type": "code",
      "source": [
        "#reading/creating the dataFrame with pyspark\n",
        "df = spark.read.csv(\n",
        "    \"drive/My Drive/Colab Notebooks/internshala.csv\", \n",
        "    header=True, \n",
        "    mode=\"DROPMALFORMED\", \n",
        "\n",
        ")"
      ],
      "metadata": {
        "id": "exAPv5OIIUIG"
      },
      "execution_count": 125,
      "outputs": []
    },
    {
      "cell_type": "code",
      "source": [
        "### Check the schema\n",
        "df.printSchema()"
      ],
      "metadata": {
        "colab": {
          "base_uri": "https://localhost:8080/"
        },
        "id": "nd5EASxrsy4I",
        "outputId": "2487e07e-c9ad-4d3e-89c9-859e77d9e03a"
      },
      "execution_count": 126,
      "outputs": [
        {
          "output_type": "stream",
          "name": "stdout",
          "text": [
            "root\n",
            " |-- uuid: string (nullable = true)\n",
            " |-- price_string: string (nullable = true)\n",
            " |-- price_string_unf: string (nullable = true)\n",
            " |-- product_type: string (nullable = true)\n",
            " |-- level_1: string (nullable = true)\n",
            " |-- category: string (nullable = true)\n",
            "\n"
          ]
        }
      ]
    },
    {
      "cell_type": "code",
      "source": [
        "type(df)"
      ],
      "metadata": {
        "colab": {
          "base_uri": "https://localhost:8080/"
        },
        "id": "I3eUjsyGz46L",
        "outputId": "75fdceb5-5a56-4358-e242-4efb1f99e645"
      },
      "execution_count": 127,
      "outputs": [
        {
          "output_type": "execute_result",
          "data": {
            "text/plain": [
              "pyspark.sql.dataframe.DataFrame"
            ]
          },
          "metadata": {},
          "execution_count": 127
        }
      ]
    },
    {
      "cell_type": "code",
      "source": [
        "df.show()"
      ],
      "metadata": {
        "id": "dNQqcNVN0GP0",
        "colab": {
          "base_uri": "https://localhost:8080/"
        },
        "outputId": "1c197515-5e10-48e1-ede4-e77041080263"
      },
      "execution_count": 128,
      "outputs": [
        {
          "output_type": "stream",
          "name": "stdout",
          "text": [
            "+--------------------+------------+----------------+--------------------+--------------------+--------------------+\n",
            "|                uuid|price_string|price_string_unf|        product_type|             level_1|            category|\n",
            "+--------------------+------------+----------------+--------------------+--------------------+--------------------+\n",
            "|638744a4-b0ae-416...|        null|            null|TGFwdG9wIENvdmVyc...|     TGFwdG9wIENhc2U|     RWxlY3Ryb25pY3M|\n",
            "|ab313969-02cc-48b...|        null|            null|QmFraW5nIEN1cHMgY...|QmFraW5nIE1hdHMgL...|a2l0Y2hpbmcgYW5kI...|\n",
            "|acbd66ff-79f8-467...|      $19.95|            null|R3VtbWllcyB2aXRhb...|SW1tdW5pdHkgZ3Vtb...|            SGVhbHRo|\n",
            "|963915d6-b2e3-409...|      $92.00|            null|            U2VydW1z|      RmFjZSBTZXJ1bQ|YmVhdXR5IGFuZCBwZ...|\n",
            "|b5b68f3c-b1e0-40e...|       11.50|            null|RWF0aW5nIFV0ZW5za...|      Q2hvcHN0aWNrcw|a2l0Y2hpbmcgYW5kI...|\n",
            "|389d9f75-cc3f-4bd...|        null|            null|TmF0dXJhbCBTd2Vld...|      TW9uayBGcnVpdA|        Z3JvY2VyaWVz|\n",
            "|9599f1a9-d406-43e...|      $24.99|            null|TW9wcyBhbmQgYnJvb21z|                TW9w|SG91c2Vob2xkIGFuZ...|\n",
            "|35799087-f6f4-4ca...|     $148.00|            null|    V29tZW5zIFBhbnRz|V29tZW5zIFJlZ3VsY...|Q2xvdGhpbmcgYW5kI...|\n",
            "|9b3f553e-ee4c-4e1...|         $89|            null|    V29tZW5zIFBhbnRz|  V29tZW5zIFRpZ2h0cw|Q2xvdGhpbmcgYW5kI...|\n",
            "|6871b427-3c2c-4b3...|      $14.95|            null|     Um9sbGluZyBQaW4|UGxheSBEb3VnaCBSb...| VG95cyBhbmQgR2FtZXM|\n",
            "|bc4a0598-1910-481...|      $55.00|            null|      Q2FyZHN0b2Nrcw|             Q2FyZHM|    QXJ0IHN1cHBsaWVz|\n",
            "|955f5ee8-e152-44b...|       32.99|            null|    Rm9vZCBTdG9yYWdl| Rm9vZCBDb250YWluZXI|a2l0Y2hpbmcgYW5kI...|\n",
            "|963915d6-b2e3-409...|      $92.00|            null|            U2VydW1z|      RmFjZSBTZXJ1bQ|YmVhdXR5IGFuZCBwZ...|\n",
            "|1f2766ec-0a27-43f...|        null|            null|U2NydWJzIGFuZCBjb...|            U2NydWJz|SG91c2Vob2xkIGFuZ...|\n",
            "|9de3aff1-4804-4c3...|       52.00|            null|            U2hvcnRz|  V29tZW5zIFNob3J0cw|Q2xvdGhpbmcgYW5kI...|\n",
            "|b332aedb-005f-4af...|      $11.30|            null|UGxhdGVzL1V0ZW5za...|            UGxhdGVz|a2l0Y2hpbmcgYW5kI...|\n",
            "|7bad39f5-74b9-461...|        null|            null|UGx1cyBzaXplIHdlY...|             RHJlc3M|Q2xvdGhpbmcgYW5kI...|\n",
            "|da7f0d13-ec69-4f1...|      $13.99|            null| TnV0cyAtIENhc2hld3M|          Q2FzaGV3cw|        Z3JvY2VyaWVz|\n",
            "|8c6eea03-327a-466...|       $6.95|            null|TWFrZXVwIGFwcGxpY...|TWFrZXVwIGFwcGxpY...|    QXJ0IHN1cHBsaWVz|\n",
            "|524886b5-7cc2-4a5...|        null|            null| TWF0ZXJuaXR5IFBhZHM|UG9zdHBhcnR1bSBQYWRz|YmVhdXR5IGFuZCBwZ...|\n",
            "+--------------------+------------+----------------+--------------------+--------------------+--------------------+\n",
            "only showing top 20 rows\n",
            "\n"
          ]
        }
      ]
    },
    {
      "cell_type": "code",
      "source": [
        "#filtering out all the null values from the \"price_string\" column\n",
        "products_without_cost = df.filter(df.price_string.isNull())"
      ],
      "metadata": {
        "id": "YCGPhH-P1Xmx"
      },
      "execution_count": 129,
      "outputs": []
    },
    {
      "cell_type": "code",
      "source": [
        "products_without_cost.show()"
      ],
      "metadata": {
        "colab": {
          "base_uri": "https://localhost:8080/"
        },
        "id": "4wMFbJxOooqf",
        "outputId": "82a8013a-e7af-4cb5-c8a9-8f5b0e90cb12"
      },
      "execution_count": 130,
      "outputs": [
        {
          "output_type": "stream",
          "name": "stdout",
          "text": [
            "+--------------------+------------+----------------+--------------------+--------------------+--------------------+\n",
            "|                uuid|price_string|price_string_unf|        product_type|             level_1|            category|\n",
            "+--------------------+------------+----------------+--------------------+--------------------+--------------------+\n",
            "|638744a4-b0ae-416...|        null|            null|TGFwdG9wIENvdmVyc...|     TGFwdG9wIENhc2U|     RWxlY3Ryb25pY3M|\n",
            "|ab313969-02cc-48b...|        null|            null|QmFraW5nIEN1cHMgY...|QmFraW5nIE1hdHMgL...|a2l0Y2hpbmcgYW5kI...|\n",
            "|389d9f75-cc3f-4bd...|        null|            null|TmF0dXJhbCBTd2Vld...|      TW9uayBGcnVpdA|        Z3JvY2VyaWVz|\n",
            "|1f2766ec-0a27-43f...|        null|            null|U2NydWJzIGFuZCBjb...|            U2NydWJz|SG91c2Vob2xkIGFuZ...|\n",
            "|7bad39f5-74b9-461...|        null|            null|UGx1cyBzaXplIHdlY...|             RHJlc3M|Q2xvdGhpbmcgYW5kI...|\n",
            "|524886b5-7cc2-4a5...|        null|            null| TWF0ZXJuaXR5IFBhZHM|UG9zdHBhcnR1bSBQYWRz|YmVhdXR5IGFuZCBwZ...|\n",
            "|ae346b86-21ff-431...|        null|            null|RWR1Y2F0aW9uYWwgQ...|     TnVtYmVyIFRveXM| VG95cyBhbmQgR2FtZXM|\n",
            "|cc3dd359-7aa9-414...|        null|            null|UGxhbnQgYmFzZWQgU...|S2V0byBEaWV0IFdla...|            SGVhbHRo|\n",
            "|327e1b21-5ba7-464...|        null|            null|Q2FuZGxlcy9GcmFnb...|          Q2FuZGxlcw|SG91c2Vob2xkIGFuZ...|\n",
            "|9e740140-648a-497...|        null|            null|bWVucyBCb2R5IFNvY...|  bWVucyBCb2R5d2FzaA|YmVhdXR5IGFuZCBwZ...|\n",
            "|cf36c49a-3c54-456...|        null|            null|             TGVnb3M|  TGVnb3MgYW5pbWFscw| VG95cyBhbmQgR2FtZXM|\n",
            "|d658a683-d769-413...|        null|            null|RG9sbCBob3VzZSAvI...| QWN0aW9uIEZpZ3VyZXM| VG95cyBhbmQgR2FtZXM|\n",
            "|ccf6851f-40e2-48c...|        null|            null|     UGV0IGNvbGxhcnM|     Q2F0IGNvbGxhcnM|    cGV0IHN1cHBsaWVz|\n",
            "|0764657a-719c-4f4...|        null|            null|TmF0dXJhbCBQaWdtZ...|V2F0ZXJjb2xvcnMgc...|    QXJ0IHN1cHBsaWVz|\n",
            "|002f644e-f665-41b...|        null|            null|          UG9wY29ybg| UG9wcGVkIFBvcGNvcm4|        Z3JvY2VyaWVz|\n",
            "|a05794ed-f220-456...|        null|            null|U29sYXItUG93ZXJlZ...|                null|VG9vbHMgYW5kIGhvb...|\n",
            "|25677eee-c26b-4ab...|        null|            null|             U2F1Y2U|        QkJRIFNhdWNl|        Z3JvY2VyaWVz|\n",
            "|3c91ad39-df6a-4ba...|        null|            null|     VGhlcm1vc3RhdHM|     VGhlcm1vc3RhdHM|VG9vbHMgYW5kIGhvb...|\n",
            "|af9317ed-0f2b-4f0...|        null|            null|UHJvZHVjZSBCYWdzI...|R3JvY2VyeS9TaG9wc...|a2l0Y2hpbmcgYW5kI...|\n",
            "|f222fb45-ab39-4ea...|        null|            null|    U2xlZXAgc2hvcnRz|    U2xlZXAgc2hvcnRz|Q2xvdGhpbmcgYW5kI...|\n",
            "+--------------------+------------+----------------+--------------------+--------------------+--------------------+\n",
            "only showing top 20 rows\n",
            "\n"
          ]
        }
      ]
    },
    {
      "cell_type": "code",
      "source": [
        "#counting the products without the price/ where price_string == null\n",
        "count_without_price = products_without_cost.groupBy('product_type','category','level_1').count()"
      ],
      "metadata": {
        "id": "XZSX-hl8q2Ap"
      },
      "execution_count": 131,
      "outputs": []
    },
    {
      "cell_type": "code",
      "source": [
        "count_without_price.show()"
      ],
      "metadata": {
        "colab": {
          "base_uri": "https://localhost:8080/"
        },
        "id": "X7DPg5WgyuGs",
        "outputId": "07fba0a8-bbf3-44dc-b60b-3da3b7949431"
      },
      "execution_count": 132,
      "outputs": [
        {
          "output_type": "stream",
          "name": "stdout",
          "text": [
            "+--------------------+--------------------+--------------------+-----+\n",
            "|        product_type|            category|             level_1|count|\n",
            "+--------------------+--------------------+--------------------+-----+\n",
            "|    Rm9vZCBTdG9yYWdl|a2l0Y2hpbmcgYW5kI...|V3JhcHMgYW5kIENvd...|20000|\n",
            "|UGFwZXIgVG93ZWwgQ...|SG91c2Vob2xkIGFuZ...|        RGlzaGNsb3Ro|30000|\n",
            "|TmF0dXJhbCBTd2Vld...|        Z3JvY2VyaWVz|            U3Rldmlh|10000|\n",
            "|      QmFieSBXaXBlcw|         QmFieWNhcmU|      QmFieSBXaXBlcw|10000|\n",
            "|TWF0ZXJuaXR5IFRza...|Q2xvdGhpbmcgYW5kI...|TWF0ZXJuaXR5IFNob...|30000|\n",
            "|    RHV2ZXQgY292ZXJz|SG91c2Vob2xkIGFuZ...|c2F0ZWVuIGR1dmV0I...|20000|\n",
            "|    TGVhc2hlcyBwZXRz|    cGV0IHN1cHBsaWVz|     RG9nIGxlYXNoZXM|20000|\n",
            "|UGV0IEZsZWEgYW5kI...|    cGV0IHN1cHBsaWVz|RG9nL0NhdCBGbGVhI...|20000|\n",
            "|        WW9nYSBNYXRz|            SGVhbHRo|RWNvIGZyaWVuZGx5I...|10000|\n",
            "|cGV0IEJlZC9NYXR0c...|    cGV0IHN1cHBsaWVz|Y2F0IEJlZC9NYXR0c...|10000|\n",
            "|        U2xlZXAgVCdz|Q2xvdGhpbmcgYW5kI...|  U2xlZXAgVHNoaXJ0cw|20000|\n",
            "|U3R1ZmZlZCBBbmltY...| VG95cyBhbmQgR2FtZXM|U3R1ZmZlZCBBcXVhd...|20000|\n",
            "|UGV0IGVhciBjbGVhb...|    cGV0IHN1cHBsaWVz|RG9nL2NhdCBFYXIgY...|20000|\n",
            "|R3VtbWllcyB2aXRhb...|            SGVhbHRo|TXVsdGl2aXRhbWluI...|20000|\n",
            "|UGV0IFBvdHR5L1BlZ...|    cGV0IHN1cHBsaWVz|UGV0IFBvdHR5L1BlZ...|10000|\n",
            "|U3R1ZmZlZCBBbmltY...| VG95cyBhbmQgR2FtZXM|U3R1ZmZlZCBlYWdsZ...|10000|\n",
            "|QmFieSBDcmVhbXMgY...|         QmFieWNhcmU|Q3JlYW1zIGFuZCBMb...|10000|\n",
            "|TWF0ZXJuaXR5IFRza...|Q2xvdGhpbmcgYW5kI...|TWF0ZXJuaXR5IExvb...|20000|\n",
            "|      QmFieSBDcmlicw|         QmFieWNhcmU|      QmFieSBDcmlicw|30000|\n",
            "|WW9nYSBBY2Nlc3Nvc...|            SGVhbHRo|  eW9nYSBib2xzdGVycw|10000|\n",
            "+--------------------+--------------------+--------------------+-----+\n",
            "only showing top 20 rows\n",
            "\n"
          ]
        }
      ]
    },
    {
      "cell_type": "code",
      "source": [
        "#droping the null values and assigning the dataframe in a new variable so our default dataframe stay untouched and orignal\n",
        "without_null_price = df.na.drop(how=\"any\",subset=['price_string'])"
      ],
      "metadata": {
        "id": "_Ko4w0_V3nG9"
      },
      "execution_count": 133,
      "outputs": []
    },
    {
      "cell_type": "code",
      "source": [
        "##counting the products with the price/ where price_string != null\n",
        "count_with_price = without_null_price.groupBy('product_type','category','level_1').count()"
      ],
      "metadata": {
        "id": "nKlSg1P92No_"
      },
      "execution_count": 134,
      "outputs": []
    },
    {
      "cell_type": "code",
      "source": [
        "count_with_price.show()"
      ],
      "metadata": {
        "colab": {
          "base_uri": "https://localhost:8080/"
        },
        "id": "xCVEaLW44M6z",
        "outputId": "f04d2c1f-68d9-4b80-b22d-16cf61652721"
      },
      "execution_count": 135,
      "outputs": [
        {
          "output_type": "stream",
          "name": "stdout",
          "text": [
            "+--------------------+--------------------+--------------------+-----+\n",
            "|        product_type|            category|             level_1|count|\n",
            "+--------------------+--------------------+--------------------+-----+\n",
            "|    Rm9vZCBTdG9yYWdl|a2l0Y2hpbmcgYW5kI...|V3JhcHMgYW5kIENvd...|10000|\n",
            "|  Q3JhZnQgcmliYm9ucw|    QXJ0IHN1cHBsaWVz|  Q3JhZnQgcmliYm9ucw|10000|\n",
            "|TmF0dXJhbCBTd2Vld...|        Z3JvY2VyaWVz|            U3Rldmlh|10000|\n",
            "|V2F0ZXIgRmlsdGVyI...|VG9vbHMgYW5kIGhvb...|            MzAgQ3Vw|10000|\n",
            "|  U2hhdmluZyBDcmVhbQ|YmVhdXR5IGFuZCBwZ...|  U2hhdmluZyBDcmVhbQ|10000|\n",
            "|      QmFieSBXaXBlcw|         QmFieWNhcmU|      QmFieSBXaXBlcw|10000|\n",
            "|    RHV2ZXQgY292ZXJz|SG91c2Vob2xkIGFuZ...|c2F0ZWVuIGR1dmV0I...|10000|\n",
            "|UGV0IEZsZWEgYW5kI...|    cGV0IHN1cHBsaWVz|RG9nL0NhdCBGbGVhI...|10000|\n",
            "|        WW9nYSBNYXRz|            SGVhbHRo|RWNvIGZyaWVuZGx5I...|20000|\n",
            "|    TGVhc2hlcyBwZXRz|    cGV0IHN1cHBsaWVz|     RG9nIGxlYXNoZXM|10000|\n",
            "|    RmFjZSBtYWtlIHVw|YmVhdXR5IGFuZCBwZ...|          QnJvbnplcg|20000|\n",
            "|        U2xlZXAgVCdz|Q2xvdGhpbmcgYW5kI...|  U2xlZXAgVHNoaXJ0cw|10000|\n",
            "|      Q2FyZHN0b2Nrcw|    QXJ0IHN1cHBsaWVz| R3JlZXRpbmcgQ2FyZCA|10000|\n",
            "| U25lYWtlcnMgc2hvZXM|Q2xvdGhpbmcgYW5kI...|  TWVucyBzbmVha2Vycw|10000|\n",
            "|V2F0ZXIgRmlsdGVyI...|VG9vbHMgYW5kIGhvb...|            MjAgQ3Vw|10000|\n",
            "|Q2FuZGxlcy9GcmFnb...|SG91c2Vob2xkIGFuZ...|SW5zZW5jZSBzdGlja...|10000|\n",
            "|R3VtbWllcyB2aXRhb...|            SGVhbHRo|TXVsdGl2aXRhbWluI...|10000|\n",
            "|U3R1ZmZlZCBBbmltY...| VG95cyBhbmQgR2FtZXM|U3R1ZmZlZCBBcXVhd...|10000|\n",
            "|    Rm9vZCBTdG9yYWdl|a2l0Y2hpbmcgYW5kI...| Rm9vZCBDb250YWluZXI|30000|\n",
            "|         Tm90ZXBhZHM|b2ZmaWNlIHByb2R1Y3Rz|Tm90ZWJvb2sgLyBOb...|10000|\n",
            "+--------------------+--------------------+--------------------+-----+\n",
            "only showing top 20 rows\n",
            "\n"
          ]
        }
      ]
    },
    {
      "cell_type": "code",
      "source": [
        "#importing all functions form pyspark.sql.functions\n",
        "from pyspark.sql.functions import *\n",
        "\n",
        "import pyspark.sql.functions as F"
      ],
      "metadata": {
        "id": "JHTGuG848o6o"
      },
      "execution_count": 136,
      "outputs": []
    },
    {
      "cell_type": "code",
      "source": [
        "#removing all \"$\" signs from the price_string for making this column to values\n",
        "currency = without_null_price.withColumn('price_string', F.regexp_replace('price_string', r'^[$]*', ''))\n"
      ],
      "metadata": {
        "id": "aRK57WFd9XQZ"
      },
      "execution_count": 137,
      "outputs": []
    },
    {
      "cell_type": "code",
      "source": [
        "currency.show()"
      ],
      "metadata": {
        "colab": {
          "base_uri": "https://localhost:8080/"
        },
        "id": "BtXUGAmW_UiC",
        "outputId": "45eb862d-eca5-4941-bda9-af75312028db"
      },
      "execution_count": 138,
      "outputs": [
        {
          "output_type": "stream",
          "name": "stdout",
          "text": [
            "+--------------------+------------+----------------+--------------------+--------------------+--------------------+\n",
            "|                uuid|price_string|price_string_unf|        product_type|             level_1|            category|\n",
            "+--------------------+------------+----------------+--------------------+--------------------+--------------------+\n",
            "|acbd66ff-79f8-467...|       19.95|            null|R3VtbWllcyB2aXRhb...|SW1tdW5pdHkgZ3Vtb...|            SGVhbHRo|\n",
            "|963915d6-b2e3-409...|       92.00|            null|            U2VydW1z|      RmFjZSBTZXJ1bQ|YmVhdXR5IGFuZCBwZ...|\n",
            "|b5b68f3c-b1e0-40e...|       11.50|            null|RWF0aW5nIFV0ZW5za...|      Q2hvcHN0aWNrcw|a2l0Y2hpbmcgYW5kI...|\n",
            "|9599f1a9-d406-43e...|       24.99|            null|TW9wcyBhbmQgYnJvb21z|                TW9w|SG91c2Vob2xkIGFuZ...|\n",
            "|35799087-f6f4-4ca...|      148.00|            null|    V29tZW5zIFBhbnRz|V29tZW5zIFJlZ3VsY...|Q2xvdGhpbmcgYW5kI...|\n",
            "|9b3f553e-ee4c-4e1...|          89|            null|    V29tZW5zIFBhbnRz|  V29tZW5zIFRpZ2h0cw|Q2xvdGhpbmcgYW5kI...|\n",
            "|6871b427-3c2c-4b3...|       14.95|            null|     Um9sbGluZyBQaW4|UGxheSBEb3VnaCBSb...| VG95cyBhbmQgR2FtZXM|\n",
            "|bc4a0598-1910-481...|       55.00|            null|      Q2FyZHN0b2Nrcw|             Q2FyZHM|    QXJ0IHN1cHBsaWVz|\n",
            "|955f5ee8-e152-44b...|       32.99|            null|    Rm9vZCBTdG9yYWdl| Rm9vZCBDb250YWluZXI|a2l0Y2hpbmcgYW5kI...|\n",
            "|963915d6-b2e3-409...|       92.00|            null|            U2VydW1z|      RmFjZSBTZXJ1bQ|YmVhdXR5IGFuZCBwZ...|\n",
            "|9de3aff1-4804-4c3...|       52.00|            null|            U2hvcnRz|  V29tZW5zIFNob3J0cw|Q2xvdGhpbmcgYW5kI...|\n",
            "|b332aedb-005f-4af...|       11.30|            null|UGxhdGVzL1V0ZW5za...|            UGxhdGVz|a2l0Y2hpbmcgYW5kI...|\n",
            "|da7f0d13-ec69-4f1...|       13.99|            null| TnV0cyAtIENhc2hld3M|          Q2FzaGV3cw|        Z3JvY2VyaWVz|\n",
            "|8c6eea03-327a-466...|        6.95|            null|TWFrZXVwIGFwcGxpY...|TWFrZXVwIGFwcGxpY...|    QXJ0IHN1cHBsaWVz|\n",
            "|5bad2747-bab7-44b...|        0.00|            null|        QmVkc2hlZXRz|UGVyY2FsZSBiZWRza...|SG91c2Vob2xkIGFuZ...|\n",
            "|ae21eb87-1106-43d...|         129|            null|      U3VyZiBzdWl0cw|V29tZW5zIHN1cmYgc...|Q2xvdGhpbmcgYW5kI...|\n",
            "|a11a45d3-1836-45e...|       10.99|            null|              UmljZQ|        V2lsZCBSaWNl|        Z3JvY2VyaWVz|\n",
            "|997c9da7-6994-457...|        6.49|            null|          QnJ1c2hlcw|      RGlzaCBicnVzaA|SG91c2Vob2xkIGFuZ...|\n",
            "|4445c356-4e29-4b1...|       18.99|            null|Q2FuZGxlcy9GcmFnb...|  Q2FuZGxlIGhvbGRlcg|SG91c2Vob2xkIGFuZ...|\n",
            "|d3067198-f651-40f...|         179|            null| V29tZW5zIEphY2tldHM|RGVuaW0gSmFja2V0L...|Q2xvdGhpbmcgYW5kI...|\n",
            "+--------------------+------------+----------------+--------------------+--------------------+--------------------+\n",
            "only showing top 20 rows\n",
            "\n"
          ]
        }
      ]
    },
    {
      "cell_type": "code",
      "source": [
        "#creating the new column currency with the currency as the values\n",
        "currency = without_null_price.withColumn(\"currency\", lit('US DOLLAR'))"
      ],
      "metadata": {
        "id": "aU-gmhB9_XEN"
      },
      "execution_count": 139,
      "outputs": []
    },
    {
      "cell_type": "code",
      "source": [
        "currency.show()"
      ],
      "metadata": {
        "colab": {
          "base_uri": "https://localhost:8080/"
        },
        "id": "xuZmoV0bC5Vn",
        "outputId": "b2eb6c6e-67ac-4bb9-d853-14c7f972d703"
      },
      "execution_count": 140,
      "outputs": [
        {
          "output_type": "stream",
          "name": "stdout",
          "text": [
            "+--------------------+------------+----------------+--------------------+--------------------+--------------------+---------+\n",
            "|                uuid|price_string|price_string_unf|        product_type|             level_1|            category| currency|\n",
            "+--------------------+------------+----------------+--------------------+--------------------+--------------------+---------+\n",
            "|acbd66ff-79f8-467...|      $19.95|            null|R3VtbWllcyB2aXRhb...|SW1tdW5pdHkgZ3Vtb...|            SGVhbHRo|US DOLLAR|\n",
            "|963915d6-b2e3-409...|      $92.00|            null|            U2VydW1z|      RmFjZSBTZXJ1bQ|YmVhdXR5IGFuZCBwZ...|US DOLLAR|\n",
            "|b5b68f3c-b1e0-40e...|       11.50|            null|RWF0aW5nIFV0ZW5za...|      Q2hvcHN0aWNrcw|a2l0Y2hpbmcgYW5kI...|US DOLLAR|\n",
            "|9599f1a9-d406-43e...|      $24.99|            null|TW9wcyBhbmQgYnJvb21z|                TW9w|SG91c2Vob2xkIGFuZ...|US DOLLAR|\n",
            "|35799087-f6f4-4ca...|     $148.00|            null|    V29tZW5zIFBhbnRz|V29tZW5zIFJlZ3VsY...|Q2xvdGhpbmcgYW5kI...|US DOLLAR|\n",
            "|9b3f553e-ee4c-4e1...|         $89|            null|    V29tZW5zIFBhbnRz|  V29tZW5zIFRpZ2h0cw|Q2xvdGhpbmcgYW5kI...|US DOLLAR|\n",
            "|6871b427-3c2c-4b3...|      $14.95|            null|     Um9sbGluZyBQaW4|UGxheSBEb3VnaCBSb...| VG95cyBhbmQgR2FtZXM|US DOLLAR|\n",
            "|bc4a0598-1910-481...|      $55.00|            null|      Q2FyZHN0b2Nrcw|             Q2FyZHM|    QXJ0IHN1cHBsaWVz|US DOLLAR|\n",
            "|955f5ee8-e152-44b...|       32.99|            null|    Rm9vZCBTdG9yYWdl| Rm9vZCBDb250YWluZXI|a2l0Y2hpbmcgYW5kI...|US DOLLAR|\n",
            "|963915d6-b2e3-409...|      $92.00|            null|            U2VydW1z|      RmFjZSBTZXJ1bQ|YmVhdXR5IGFuZCBwZ...|US DOLLAR|\n",
            "|9de3aff1-4804-4c3...|       52.00|            null|            U2hvcnRz|  V29tZW5zIFNob3J0cw|Q2xvdGhpbmcgYW5kI...|US DOLLAR|\n",
            "|b332aedb-005f-4af...|      $11.30|            null|UGxhdGVzL1V0ZW5za...|            UGxhdGVz|a2l0Y2hpbmcgYW5kI...|US DOLLAR|\n",
            "|da7f0d13-ec69-4f1...|      $13.99|            null| TnV0cyAtIENhc2hld3M|          Q2FzaGV3cw|        Z3JvY2VyaWVz|US DOLLAR|\n",
            "|8c6eea03-327a-466...|       $6.95|            null|TWFrZXVwIGFwcGxpY...|TWFrZXVwIGFwcGxpY...|    QXJ0IHN1cHBsaWVz|US DOLLAR|\n",
            "|5bad2747-bab7-44b...|       $0.00|            null|        QmVkc2hlZXRz|UGVyY2FsZSBiZWRza...|SG91c2Vob2xkIGFuZ...|US DOLLAR|\n",
            "|ae21eb87-1106-43d...|        $129|            null|      U3VyZiBzdWl0cw|V29tZW5zIHN1cmYgc...|Q2xvdGhpbmcgYW5kI...|US DOLLAR|\n",
            "|a11a45d3-1836-45e...|      $10.99|            null|              UmljZQ|        V2lsZCBSaWNl|        Z3JvY2VyaWVz|US DOLLAR|\n",
            "|997c9da7-6994-457...|       $6.49|            null|          QnJ1c2hlcw|      RGlzaCBicnVzaA|SG91c2Vob2xkIGFuZ...|US DOLLAR|\n",
            "|4445c356-4e29-4b1...|      $18.99|            null|Q2FuZGxlcy9GcmFnb...|  Q2FuZGxlIGhvbGRlcg|SG91c2Vob2xkIGFuZ...|US DOLLAR|\n",
            "|d3067198-f651-40f...|        $179|            null| V29tZW5zIEphY2tldHM|RGVuaW0gSmFja2V0L...|Q2xvdGhpbmcgYW5kI...|US DOLLAR|\n",
            "+--------------------+------------+----------------+--------------------+--------------------+--------------------+---------+\n",
            "only showing top 20 rows\n",
            "\n"
          ]
        }
      ]
    },
    {
      "cell_type": "code",
      "source": [
        "#changing the name of the price_string to value\n",
        "currency=currency.withColumnRenamed('price_string', 'value')\n"
      ],
      "metadata": {
        "id": "WZAxF2I5Ao5F"
      },
      "execution_count": 141,
      "outputs": []
    },
    {
      "cell_type": "code",
      "source": [
        "currency.show()"
      ],
      "metadata": {
        "colab": {
          "base_uri": "https://localhost:8080/"
        },
        "id": "m5yB_d7fBVOx",
        "outputId": "cecc4822-7a75-4f17-e46a-917c373e5f61"
      },
      "execution_count": 142,
      "outputs": [
        {
          "output_type": "stream",
          "name": "stdout",
          "text": [
            "+--------------------+-------+----------------+--------------------+--------------------+--------------------+---------+\n",
            "|                uuid|  value|price_string_unf|        product_type|             level_1|            category| currency|\n",
            "+--------------------+-------+----------------+--------------------+--------------------+--------------------+---------+\n",
            "|acbd66ff-79f8-467...| $19.95|            null|R3VtbWllcyB2aXRhb...|SW1tdW5pdHkgZ3Vtb...|            SGVhbHRo|US DOLLAR|\n",
            "|963915d6-b2e3-409...| $92.00|            null|            U2VydW1z|      RmFjZSBTZXJ1bQ|YmVhdXR5IGFuZCBwZ...|US DOLLAR|\n",
            "|b5b68f3c-b1e0-40e...|  11.50|            null|RWF0aW5nIFV0ZW5za...|      Q2hvcHN0aWNrcw|a2l0Y2hpbmcgYW5kI...|US DOLLAR|\n",
            "|9599f1a9-d406-43e...| $24.99|            null|TW9wcyBhbmQgYnJvb21z|                TW9w|SG91c2Vob2xkIGFuZ...|US DOLLAR|\n",
            "|35799087-f6f4-4ca...|$148.00|            null|    V29tZW5zIFBhbnRz|V29tZW5zIFJlZ3VsY...|Q2xvdGhpbmcgYW5kI...|US DOLLAR|\n",
            "|9b3f553e-ee4c-4e1...|    $89|            null|    V29tZW5zIFBhbnRz|  V29tZW5zIFRpZ2h0cw|Q2xvdGhpbmcgYW5kI...|US DOLLAR|\n",
            "|6871b427-3c2c-4b3...| $14.95|            null|     Um9sbGluZyBQaW4|UGxheSBEb3VnaCBSb...| VG95cyBhbmQgR2FtZXM|US DOLLAR|\n",
            "|bc4a0598-1910-481...| $55.00|            null|      Q2FyZHN0b2Nrcw|             Q2FyZHM|    QXJ0IHN1cHBsaWVz|US DOLLAR|\n",
            "|955f5ee8-e152-44b...|  32.99|            null|    Rm9vZCBTdG9yYWdl| Rm9vZCBDb250YWluZXI|a2l0Y2hpbmcgYW5kI...|US DOLLAR|\n",
            "|963915d6-b2e3-409...| $92.00|            null|            U2VydW1z|      RmFjZSBTZXJ1bQ|YmVhdXR5IGFuZCBwZ...|US DOLLAR|\n",
            "|9de3aff1-4804-4c3...|  52.00|            null|            U2hvcnRz|  V29tZW5zIFNob3J0cw|Q2xvdGhpbmcgYW5kI...|US DOLLAR|\n",
            "|b332aedb-005f-4af...| $11.30|            null|UGxhdGVzL1V0ZW5za...|            UGxhdGVz|a2l0Y2hpbmcgYW5kI...|US DOLLAR|\n",
            "|da7f0d13-ec69-4f1...| $13.99|            null| TnV0cyAtIENhc2hld3M|          Q2FzaGV3cw|        Z3JvY2VyaWVz|US DOLLAR|\n",
            "|8c6eea03-327a-466...|  $6.95|            null|TWFrZXVwIGFwcGxpY...|TWFrZXVwIGFwcGxpY...|    QXJ0IHN1cHBsaWVz|US DOLLAR|\n",
            "|5bad2747-bab7-44b...|  $0.00|            null|        QmVkc2hlZXRz|UGVyY2FsZSBiZWRza...|SG91c2Vob2xkIGFuZ...|US DOLLAR|\n",
            "|ae21eb87-1106-43d...|   $129|            null|      U3VyZiBzdWl0cw|V29tZW5zIHN1cmYgc...|Q2xvdGhpbmcgYW5kI...|US DOLLAR|\n",
            "|a11a45d3-1836-45e...| $10.99|            null|              UmljZQ|        V2lsZCBSaWNl|        Z3JvY2VyaWVz|US DOLLAR|\n",
            "|997c9da7-6994-457...|  $6.49|            null|          QnJ1c2hlcw|      RGlzaCBicnVzaA|SG91c2Vob2xkIGFuZ...|US DOLLAR|\n",
            "|4445c356-4e29-4b1...| $18.99|            null|Q2FuZGxlcy9GcmFnb...|  Q2FuZGxlIGhvbGRlcg|SG91c2Vob2xkIGFuZ...|US DOLLAR|\n",
            "|d3067198-f651-40f...|   $179|            null| V29tZW5zIEphY2tldHM|RGVuaW0gSmFja2V0L...|Q2xvdGhpbmcgYW5kI...|US DOLLAR|\n",
            "+--------------------+-------+----------------+--------------------+--------------------+--------------------+---------+\n",
            "only showing top 20 rows\n",
            "\n"
          ]
        }
      ]
    },
    {
      "cell_type": "code",
      "source": [
        "#Listing out the categories with average price of product.\n",
        "avg_p_category = currency.groupBy('category').agg(F.mean(\"value\"))"
      ],
      "metadata": {
        "id": "atIVtmJRDFVS"
      },
      "execution_count": 143,
      "outputs": []
    },
    {
      "cell_type": "code",
      "source": [
        "avg_p_category.show()"
      ],
      "metadata": {
        "colab": {
          "base_uri": "https://localhost:8080/"
        },
        "id": "AzRhk6IqEBY3",
        "outputId": "e69164e3-c433-49ff-c941-5b1b1e00c76d"
      },
      "execution_count": 144,
      "outputs": [
        {
          "output_type": "stream",
          "name": "stdout",
          "text": [
            "+--------------------+------------------+\n",
            "|            category|        avg(value)|\n",
            "+--------------------+------------------+\n",
            "|         QmFieWNhcmU|              null|\n",
            "|    QXJ0IHN1cHBsaWVz|              null|\n",
            "|    cGV0IHN1cHBsaWVz|              null|\n",
            "|                null|              null|\n",
            "|SG91c2Vob2xkIGFuZ...|             108.0|\n",
            "|b2ZmaWNlIHByb2R1Y3Rz|              null|\n",
            "|a2l0Y2hpbmcgYW5kI...|18.189333333333394|\n",
            "|            SGVhbHRo|              null|\n",
            "|Q2xvdGhpbmcgYW5kI...|              52.0|\n",
            "|     RWxlY3Ryb25pY3M|              null|\n",
            "|        Z3JvY2VyaWVz|              null|\n",
            "|YmVhdXR5IGFuZCBwZ...|              null|\n",
            "|VG9vbHMgYW5kIGhvb...|              null|\n",
            "| VG95cyBhbmQgR2FtZXM|14.949999999999168|\n",
            "+--------------------+------------------+\n",
            "\n"
          ]
        }
      ]
    },
    {
      "cell_type": "code",
      "source": [
        "pip freeze > requirements.txt"
      ],
      "metadata": {
        "id": "etABrjCrEDmA"
      },
      "execution_count": 145,
      "outputs": []
    }
  ]
}